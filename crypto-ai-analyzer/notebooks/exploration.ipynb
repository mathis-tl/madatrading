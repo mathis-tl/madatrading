{
 "cells": [
  {
   "cell_type": "markdown",
   "metadata": {},
   "source": [
    "# Exploration des données de crypto-monnaies\n",
    "\n",
    "Ce notebook est destiné à l'exploration des données de crypto-monnaies, à l'analyse des tendances et à la visualisation des résultats. Nous allons charger les données, appliquer des indicateurs techniques et visualiser les résultats."
   ]
  },
  {
   "cell_type": "code",
   "execution_count": 1,
   "metadata": {},
   "outputs": [],
   "source": [
    "# Importation des bibliothèques nécessaires\n",
    "import pandas as pd\n",
    "import numpy as np\n",
    "import matplotlib.pyplot as plt\n",
    "import seaborn as sns\n",
    "\n",
    "# Configuration des styles de visualisation\n",
    "sns.set(style='whitegrid')"
   ]
  },
  {
   "cell_type": "code",
   "execution_count": 2,
   "metadata": {},
   "outputs": [],
   "source": [
    "# Chargement des données\n",
    "# Remplacez 'path_to_your_data.csv' par le chemin vers vos données\n",
    "data = pd.read_csv('path_to_your_data.csv')\n",
    "\n",
    "# Affichage des premières lignes des données\n",
    "data.head()"
   ]
  },
  {
   "cell_type": "code",
   "execution_count": 3,
   "metadata": {},
   "outputs": [],
   "source": [
    "# Analyse des données\n",
    "# Statistiques descriptives\n",
    "data.describe()"
   ]
  },
  {
   "cell_type": "code",
   "execution_count": 4,
   "metadata": {},
   "outputs": [],
   "source": [
    "# Visualisation des prix au fil du temps\n",
    "plt.figure(figsize=(14, 7))\n",
    "plt.plot(data['Date'], data['Close'], label='Prix de Clôture')\n",
    "plt.title('Prix de Clôture des Crypto-monnaies au Fil du Temps')\n",
    "plt.xlabel('Date')\n",
    "plt.ylabel('Prix de Clôture')\n",
    "plt.legend()\n",
    "plt.show()"
   ]
  },
  {
   "cell_type": "code",
   "execution_count": 5,
   "metadata": {},
   "outputs": [],
   "source": [
    "# Calcul des indicateurs techniques\n",
    "# Exemple : Moyenne Mobile\n",
    "data['MA_20'] = data['Close'].rolling(window=20).mean()\n",
    "\n",
    "# Visualisation de la Moyenne Mobile\n",
    "plt.figure(figsize=(14, 7))\n",
    "plt.plot(data['Date'], data['Close'], label='Prix de Clôture')\n",
    "plt.plot(data['Date'], data['MA_20'], label='Moyenne Mobile 20 jours', color='orange')\n",
    "plt.title('Prix de Clôture et Moyenne Mobile 20 jours')\n",
    "plt.xlabel('Date')\n",
    "plt.ylabel('Prix')\n",
    "plt.legend()\n",
    "plt.show()"
   ]
  }
 ],
 "metadata": {
  "kernelspec": {
   "display_name": "Python 3",
   "language": "python",
   "name": "python3"
  },
  "language_info": {
   "codemirror_mode": {
    "name": "ipython",
    "version": 3
   },
   "file_extension": ".py",
   "mimetype": "text/x-python",
   "name": "python",
   "nbconvert_exporter": "python",
   "pygments_lexer": "ipython3",
   "version": "3.8.5"
  }
 },
 "nbformat": 4,
 "nbformat_minor": 4
}